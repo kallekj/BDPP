{
 "cells": [
  {
   "cell_type": "markdown",
   "metadata": {},
   "source": [
    "# GPU Programming Lab\n",
    "This lab is an introduction of GPU programming with CUDA using python. It consists of 5 exercises plus homework. Write all your observations during the lab exercises and the homework in the report section at the bottom. Be brief and efficient. Send the report to Abdallah Alabdallah <abdallah.alabdallah@hh.se> by Friday, 1 May 2020 at 23:59.\n",
    "\n",
    "# CUDA\n",
    "CUDA is a parallel programming platform and an API that facilitates access to the CUDA-Enabled GPU functionality for general-purpose computing. It allows speeding up the software by utilizing the GPU power for the parallelizable part of the computation. Many Deep Learning platforms like TensorFlow, Keras, PyTorch and others rely on CUDA for their computations.\n",
    "\n",
    "## Common CUDA terminology:\n",
    "- <b>Host:</b> The CPU\n",
    "- <b>Device:</b> The GPU\n",
    "- <b>Host Memory:</b> The system main memory\n",
    "- <b>Device Memory:</b> The GPU onboard memory\n",
    "- <b>kernel:</b> A function that runs on the Device\n",
    "\n",
    "In CUDA threads are organized into a grid of blocks, where each block contains a subset of the threads that can cooperate using a block shared memory and can synchronize within each block.\n",
    "<img src='files/grid1.png' width=\"50%\" height=\"50%\"></img>\n",
    "\n",
    "\n",
    "Parallel portions of an application are executed on the device (GPU) as kernels, where an array of threads executes each kernel. Each thread has an ID, by which it controls the portion of the data to execute the kernel. All threads run the same code on different portions of the data. Grids and blocks can be organized as 1D, 2D, or 3D arrays. \n",
    "\n",
    "<img src='files/grid2.png' width=\"50%\" height=\"50%\"></img>\n"
   ]
  },
  {
   "cell_type": "markdown",
   "metadata": {},
   "source": [
    "# Numba\n",
    "CUDA is designed to work with C++, but in this Lab, we will work with Numba; a Python JIT compiler that translates subsets of the code into machine code, and enables writing parallel GPU algorithms in Python"
   ]
  },
  {
   "cell_type": "markdown",
   "metadata": {},
   "source": [
    "## Numba installation\n",
    "\n",
    "\n",
    "conda install numba\n",
    "\n",
    "pip install numba"
   ]
  },
  {
   "cell_type": "markdown",
   "metadata": {},
   "source": [
    "# Kernel \n",
    "- A Kernel is declared as a function with @cuda.jit decorator.\n",
    "- A Kernel function cannot have a return value and manages outputs as input-output arrays"
   ]
  },
  {
   "cell_type": "code",
   "execution_count": 1,
   "metadata": {},
   "outputs": [],
   "source": [
    "from numba import cuda\n",
    "\n",
    "# kernel decleration\n",
    "@cuda.jit\n",
    "def my_kernel(io_array):\n",
    "    # code here\n",
    "    pass\n"
   ]
  },
  {
   "cell_type": "markdown",
   "metadata": {},
   "source": [
    "To invoke a kernel, you have to specify the number of blocks in the grid, and the number of threads per block. This can be done by specifying the number of threads per block and calculating how many blocks are required in the grid based on the size of the data.\n",
    "\n",
    "Note: In the case that the data size is not divisible by the number of thread per block, we take the ceiling of the number to reserve an extra block for the remaining part of the data. So the threads in the last block will not be fully occupied.\n"
   ]
  },
  {
   "cell_type": "code",
   "execution_count": 2,
   "metadata": {},
   "outputs": [],
   "source": [
    "import numpy as np\n",
    "import math\n",
    "\n",
    "# kernel invocation\n",
    "data = np.ones(256)\n",
    "\n",
    "threadsperblock = 32\n",
    "blockspergrid = math.ceil(len(data)/threadsperblock)\n",
    "\n",
    "my_kernel[blockspergrid, threadsperblock](data)\n"
   ]
  },
  {
   "cell_type": "markdown",
   "metadata": {},
   "source": [
    "# Exercise 1: Element-wise operation\n",
    "\n",
    "The following kernel takes a 1D array as input and computes the element-wise cube-root x^(1/3) for each element in the array. This an example of a simple mathematical operation that is, nevertheless, somewhat costly computationally. If you are interested in delving more in-depth, you can replace it with a more straightforward operation, like multiplication, and see what happens.\n",
    "\n",
    "- pos: holds the position in the data on which the thread will work.\n",
    "- always check that the position does not exceed the length of the data, for the cases when the data length is not devisable by the number of threads per block.\n",
    "\n",
    "<img src='files/pos1.png' width=\"50%\" height=\"50%\"></img>\n",
    "\n",
    "Read the code below and compute the position on which each thread will do its computation in the output array."
   ]
  },
  {
   "cell_type": "code",
   "execution_count": 3,
   "metadata": {},
   "outputs": [
    {
     "name": "stdout",
     "output_type": "stream",
     "text": [
      "[1. 1. 1. ... 1. 1. 1.]\n"
     ]
    }
   ],
   "source": [
    "from numba import cuda\n",
    "import numba as nb\n",
    "import numpy\n",
    "import math\n",
    "\n",
    "# kernel decleration\n",
    "@cuda.jit\n",
    "def my_kernel(io_array):\n",
    "    # Thread id in a 1D block\n",
    "    tx = cuda.threadIdx.x\n",
    "    # Block id in a 1D grid\n",
    "    bx = cuda.blockIdx.x\n",
    "    # Block width, i.e. number of threads per block\n",
    "    bw = cuda.blockDim.x\n",
    "    \n",
    "    # Compute flattened index inside the array\n",
    "    #TODO: compute the correct pos value based on the tread index and the block index and the block width\n",
    "    pos = (bx*bw)+tx\n",
    "    #pos = cuda.grid(1) # this function returns the same value for the position in a 1D grid\n",
    "    \n",
    "    if pos < io_array.size:\n",
    "        io_array[pos] = io_array[pos]**(1/3)\n",
    "        \n",
    "\n",
    "# kernel invocation\n",
    "data = numpy.ones(2048)\n",
    "threadsperblock = 256\n",
    "blockspergrid = math.ceil(data.shape[0] / threadsperblock)\n",
    "my_kernel[blockspergrid, threadsperblock](data)\n",
    "print(data)"
   ]
  },
  {
   "cell_type": "markdown",
   "metadata": {},
   "source": [
    "### Comparison between this kernel and Numpy\n",
    "Try different array sizes and compare computation time between CPU (using numpy) and GPU.\n",
    "Is there a relation between the size of the array and difference in performance? Explain what you notice."
   ]
  },
  {
   "cell_type": "code",
   "execution_count": 4,
   "metadata": {},
   "outputs": [
    {
     "name": "stdout",
     "output_type": "stream",
     "text": [
      "1.49 ms ± 1.62 µs per loop (mean ± std. dev. of 7 runs, 1000 loops each)\n"
     ]
    }
   ],
   "source": [
    "data = numpy.ones(100000)\n",
    "%timeit np.cbrt(data)\n"
   ]
  },
  {
   "cell_type": "code",
   "execution_count": 5,
   "metadata": {},
   "outputs": [
    {
     "name": "stdout",
     "output_type": "stream",
     "text": [
      "829 µs ± 733 ns per loop (mean ± std. dev. of 7 runs, 1000 loops each)\n"
     ]
    }
   ],
   "source": [
    "data = np.ones(100000)\n",
    "threadsperblock = 1024\n",
    "blockspergrid = math.ceil(data.shape[0] / threadsperblock)\n",
    "%timeit my_kernel[blockspergrid, threadsperblock](data)\n"
   ]
  },
  {
   "cell_type": "markdown",
   "metadata": {},
   "source": [
    "A:\n",
    "Yes there is a difference, if you compute smaller arrays then the CPU is faster $\\approx$(size<10^4) but if the size is larger then the GPU is much faster."
   ]
  },
  {
   "cell_type": "markdown",
   "metadata": {},
   "source": [
    "## Exercise 2: Matrix Multiplication\n",
    "\n",
    "In matrix multiplication, every kernel is reponsible for computing one element of the output matrix. It reads one row from the first matrix (A) and one column form the second matrix (B) and computes the dot product of these two vectors and places it in the corresponding cell in the output matrix (C), as shown in the following figure.\n",
    "\n",
    "<img src='files/matmul.png' width=\"50%\" height=\"50%\"></img>\n",
    "\n",
    "Write a kernel to do the multiplication of two matrices."
   ]
  },
  {
   "cell_type": "code",
   "execution_count": 6,
   "metadata": {},
   "outputs": [],
   "source": [
    "# CUDA kernel\n",
    "@cuda.jit\n",
    "def mat_mul(A, B, C):\n",
    "    \"\"\"Perform matrix multiplication of C = A * B\n",
    "    \"\"\"\n",
    "    \n",
    "    # find the 2D position of the thread in which it will compute the dot product of the corresponding vectors \n",
    "    row, col = cuda.grid(2)\n",
    "    \n",
    "    if row < C.shape[0] and col < C.shape[1]:\n",
    "        #TODO: Compute the dot product \"prod\" of the corresponding vectors of this position\n",
    "        prod = 0\n",
    "        for i in range(A.shape[1]):\n",
    "            prod += A[row, i]*B[i,col]\n",
    "        C[row, col] = prod\n",
    "\n"
   ]
  },
  {
   "cell_type": "markdown",
   "metadata": {},
   "source": [
    "## Exercise 3: Create a host function to invoke the kernel\n",
    "\n",
    "It is a good practice to manually copy the matrices to the device (the GPU memory) using \"cuda.to_device\" to reduce the unnecessary data transfer between the device and the host.\n",
    "\n",
    "To test the kernel \"mat_mul\" we prepare the host function \"gpu_dot\" which will take two matrices as parameters and returns the output matrix. The job of this host function is to prepare the data and to invoke the kernel.\n",
    "\n",
    "Read the code below and calculate how many blocks are required to start the kernel. Use the calculated values to invoke the kernel."
   ]
  },
  {
   "cell_type": "code",
   "execution_count": 7,
   "metadata": {},
   "outputs": [
    {
     "data": {
      "text/plain": [
       "array([[6144., 6144., 6144., ..., 6144., 6144., 6144.],\n",
       "       [6144., 6144., 6144., ..., 6144., 6144., 6144.],\n",
       "       [6144., 6144., 6144., ..., 6144., 6144., 6144.],\n",
       "       ...,\n",
       "       [6144., 6144., 6144., ..., 6144., 6144., 6144.],\n",
       "       [6144., 6144., 6144., ..., 6144., 6144., 6144.],\n",
       "       [6144., 6144., 6144., ..., 6144., 6144., 6144.]], dtype=float32)"
      ]
     },
     "execution_count": 7,
     "metadata": {},
     "output_type": "execute_result"
    }
   ],
   "source": [
    "# Input Test arrays\n",
    "A = np.full((1024, 512), 3, np.float32) # matrix containing all 3's\n",
    "B = np.full((512, 2048), 4, np.float32) # matrix containing all 4's\n",
    "\n",
    "def gpu_dot(A, B):\n",
    "    #Copy the input matrices to the gpu\n",
    "    A_global_mem = cuda.to_device(A)\n",
    "    B_global_mem = cuda.to_device(B) # this value should be changed \n",
    "\n",
    "    # Allocate memory on the device for the result (Note the shape of the output matrix)\n",
    "    C_global_mem = cuda.device_array((A.shape[0], B.shape[1]), np.float32) # replace \"None\" with the correct type\n",
    "\n",
    "    # Configure the blocks\n",
    "    # Specify how many threads per block\n",
    "    threadsperblock = (32, 32)\n",
    "    \n",
    "    #TODO: Calculate how many blocks are required\n",
    "    blockspergrid_x = math.ceil(A.shape[0] / threadsperblock[0]) # this value should be changed \n",
    "    blockspergrid_y = math.ceil(B.shape[1] / threadsperblock[0]) # this value should be changed\n",
    "    blockspergrid = (blockspergrid_x, blockspergrid_y)\n",
    "\n",
    "    #TODO: Start the kernel based on the calculated grid\n",
    "    mat_mul[blockspergrid, threadsperblock](A_global_mem,B_global_mem,C_global_mem)\n",
    "    \n",
    "    # Copy the result back to the host\n",
    "    C = C_global_mem.copy_to_host()\n",
    "    return C\n",
    "\n",
    "\n",
    "\n",
    "#Test the host function\n",
    "gpu_dot(A,B)"
   ]
  },
  {
   "cell_type": "markdown",
   "metadata": {},
   "source": [
    "### Testing the calculations time compared to numpy"
   ]
  },
  {
   "cell_type": "code",
   "execution_count": 8,
   "metadata": {},
   "outputs": [
    {
     "name": "stdout",
     "output_type": "stream",
     "text": [
      "60.5 ms ± 168 µs per loop (mean ± std. dev. of 7 runs, 10 loops each)\n"
     ]
    }
   ],
   "source": [
    "%timeit gpu_dot(A,B)"
   ]
  },
  {
   "cell_type": "code",
   "execution_count": 9,
   "metadata": {},
   "outputs": [
    {
     "name": "stdout",
     "output_type": "stream",
     "text": [
      "516 ms ± 645 µs per loop (mean ± std. dev. of 7 runs, 1 loop each)\n"
     ]
    }
   ],
   "source": [
    "%timeit np.dot(A,B)"
   ]
  },
  {
   "cell_type": "markdown",
   "metadata": {},
   "source": [
    "## Exercise 4: Distance Matrix\n",
    "The distance matrix (D) of a data matrix (A) is the matrix that contains the eucleadian distance between each two row vectors as shown in the following figure.\n",
    "<img src='files/distmat.png' width=\"50%\" height=\"50%\"></img>\n",
    "\n",
    "where \n",
    "$$D[i,j]=D[j,i]=dist(A[i,:], A[j,:])$$\n",
    "\n",
    "\n",
    "Use what you have learned in the previous exercises to write a kernel and a host function to compute the distance matrix of a given data matrix."
   ]
  },
  {
   "cell_type": "code",
   "execution_count": 10,
   "metadata": {},
   "outputs": [
    {
     "data": {
      "text/html": [
       "<div>\n",
       "<style scoped>\n",
       "    .dataframe tbody tr th:only-of-type {\n",
       "        vertical-align: middle;\n",
       "    }\n",
       "\n",
       "    .dataframe tbody tr th {\n",
       "        vertical-align: top;\n",
       "    }\n",
       "\n",
       "    .dataframe thead th {\n",
       "        text-align: right;\n",
       "    }\n",
       "</style>\n",
       "<table border=\"1\" class=\"dataframe\">\n",
       "  <thead>\n",
       "    <tr style=\"text-align: right;\">\n",
       "      <th></th>\n",
       "      <th>0</th>\n",
       "      <th>1</th>\n",
       "      <th>2</th>\n",
       "      <th>3</th>\n",
       "      <th>4</th>\n",
       "      <th>5</th>\n",
       "      <th>6</th>\n",
       "      <th>7</th>\n",
       "      <th>8</th>\n",
       "      <th>9</th>\n",
       "      <th>...</th>\n",
       "      <th>118</th>\n",
       "      <th>119</th>\n",
       "      <th>120</th>\n",
       "      <th>121</th>\n",
       "      <th>122</th>\n",
       "      <th>123</th>\n",
       "      <th>124</th>\n",
       "      <th>125</th>\n",
       "      <th>126</th>\n",
       "      <th>127</th>\n",
       "    </tr>\n",
       "  </thead>\n",
       "  <tbody>\n",
       "    <tr>\n",
       "      <th>0</th>\n",
       "      <td>0.000000</td>\n",
       "      <td>135.106444</td>\n",
       "      <td>161.484854</td>\n",
       "      <td>125.605858</td>\n",
       "      <td>149.065788</td>\n",
       "      <td>146.629999</td>\n",
       "      <td>141.928890</td>\n",
       "      <td>142.983462</td>\n",
       "      <td>145.663341</td>\n",
       "      <td>146.189560</td>\n",
       "      <td>...</td>\n",
       "      <td>135.392123</td>\n",
       "      <td>134.123586</td>\n",
       "      <td>141.775184</td>\n",
       "      <td>141.754135</td>\n",
       "      <td>165.910458</td>\n",
       "      <td>147.383065</td>\n",
       "      <td>152.358747</td>\n",
       "      <td>134.662336</td>\n",
       "      <td>149.360023</td>\n",
       "      <td>154.130854</td>\n",
       "    </tr>\n",
       "    <tr>\n",
       "      <th>1</th>\n",
       "      <td>135.106444</td>\n",
       "      <td>0.000000</td>\n",
       "      <td>143.232122</td>\n",
       "      <td>123.398851</td>\n",
       "      <td>137.880515</td>\n",
       "      <td>131.110695</td>\n",
       "      <td>126.894844</td>\n",
       "      <td>142.407402</td>\n",
       "      <td>128.577073</td>\n",
       "      <td>148.246391</td>\n",
       "      <td>...</td>\n",
       "      <td>130.901037</td>\n",
       "      <td>137.267744</td>\n",
       "      <td>144.856836</td>\n",
       "      <td>131.891111</td>\n",
       "      <td>150.177750</td>\n",
       "      <td>137.738777</td>\n",
       "      <td>139.726775</td>\n",
       "      <td>133.599294</td>\n",
       "      <td>147.986489</td>\n",
       "      <td>139.986959</td>\n",
       "    </tr>\n",
       "    <tr>\n",
       "      <th>2</th>\n",
       "      <td>161.484854</td>\n",
       "      <td>143.232122</td>\n",
       "      <td>0.000000</td>\n",
       "      <td>148.717058</td>\n",
       "      <td>136.983350</td>\n",
       "      <td>150.946363</td>\n",
       "      <td>155.505749</td>\n",
       "      <td>147.631069</td>\n",
       "      <td>150.593286</td>\n",
       "      <td>149.674219</td>\n",
       "      <td>...</td>\n",
       "      <td>156.175036</td>\n",
       "      <td>141.120485</td>\n",
       "      <td>146.922703</td>\n",
       "      <td>155.623280</td>\n",
       "      <td>167.092098</td>\n",
       "      <td>155.556814</td>\n",
       "      <td>153.884997</td>\n",
       "      <td>135.211397</td>\n",
       "      <td>154.120769</td>\n",
       "      <td>148.806973</td>\n",
       "    </tr>\n",
       "    <tr>\n",
       "      <th>3</th>\n",
       "      <td>125.605858</td>\n",
       "      <td>123.398851</td>\n",
       "      <td>148.717058</td>\n",
       "      <td>0.000000</td>\n",
       "      <td>135.680793</td>\n",
       "      <td>143.401676</td>\n",
       "      <td>141.193399</td>\n",
       "      <td>138.540077</td>\n",
       "      <td>142.044379</td>\n",
       "      <td>134.726127</td>\n",
       "      <td>...</td>\n",
       "      <td>128.246960</td>\n",
       "      <td>138.687527</td>\n",
       "      <td>143.864217</td>\n",
       "      <td>145.691703</td>\n",
       "      <td>137.133245</td>\n",
       "      <td>152.079165</td>\n",
       "      <td>149.488277</td>\n",
       "      <td>132.672192</td>\n",
       "      <td>134.487607</td>\n",
       "      <td>151.726483</td>\n",
       "    </tr>\n",
       "    <tr>\n",
       "      <th>4</th>\n",
       "      <td>149.065788</td>\n",
       "      <td>137.880515</td>\n",
       "      <td>136.983350</td>\n",
       "      <td>135.680793</td>\n",
       "      <td>0.000000</td>\n",
       "      <td>128.865891</td>\n",
       "      <td>141.544893</td>\n",
       "      <td>154.599511</td>\n",
       "      <td>151.592790</td>\n",
       "      <td>147.309578</td>\n",
       "      <td>...</td>\n",
       "      <td>134.090901</td>\n",
       "      <td>144.547789</td>\n",
       "      <td>131.768064</td>\n",
       "      <td>144.480490</td>\n",
       "      <td>155.278724</td>\n",
       "      <td>144.013214</td>\n",
       "      <td>147.165085</td>\n",
       "      <td>138.222741</td>\n",
       "      <td>133.495130</td>\n",
       "      <td>139.592519</td>\n",
       "    </tr>\n",
       "    <tr>\n",
       "      <th>...</th>\n",
       "      <td>...</td>\n",
       "      <td>...</td>\n",
       "      <td>...</td>\n",
       "      <td>...</td>\n",
       "      <td>...</td>\n",
       "      <td>...</td>\n",
       "      <td>...</td>\n",
       "      <td>...</td>\n",
       "      <td>...</td>\n",
       "      <td>...</td>\n",
       "      <td>...</td>\n",
       "      <td>...</td>\n",
       "      <td>...</td>\n",
       "      <td>...</td>\n",
       "      <td>...</td>\n",
       "      <td>...</td>\n",
       "      <td>...</td>\n",
       "      <td>...</td>\n",
       "      <td>...</td>\n",
       "      <td>...</td>\n",
       "      <td>...</td>\n",
       "    </tr>\n",
       "    <tr>\n",
       "      <th>123</th>\n",
       "      <td>147.383065</td>\n",
       "      <td>137.738777</td>\n",
       "      <td>155.556814</td>\n",
       "      <td>152.079165</td>\n",
       "      <td>144.013214</td>\n",
       "      <td>142.357667</td>\n",
       "      <td>138.762181</td>\n",
       "      <td>146.132045</td>\n",
       "      <td>140.624742</td>\n",
       "      <td>160.583107</td>\n",
       "      <td>...</td>\n",
       "      <td>148.910315</td>\n",
       "      <td>147.843565</td>\n",
       "      <td>143.774780</td>\n",
       "      <td>140.725207</td>\n",
       "      <td>166.633855</td>\n",
       "      <td>0.000000</td>\n",
       "      <td>143.251033</td>\n",
       "      <td>140.202241</td>\n",
       "      <td>162.666521</td>\n",
       "      <td>134.906715</td>\n",
       "    </tr>\n",
       "    <tr>\n",
       "      <th>124</th>\n",
       "      <td>152.358747</td>\n",
       "      <td>139.726775</td>\n",
       "      <td>153.884997</td>\n",
       "      <td>149.488277</td>\n",
       "      <td>147.165085</td>\n",
       "      <td>138.611241</td>\n",
       "      <td>135.131169</td>\n",
       "      <td>140.416976</td>\n",
       "      <td>153.383393</td>\n",
       "      <td>157.155150</td>\n",
       "      <td>...</td>\n",
       "      <td>140.015490</td>\n",
       "      <td>129.285695</td>\n",
       "      <td>141.686428</td>\n",
       "      <td>145.558407</td>\n",
       "      <td>149.872231</td>\n",
       "      <td>143.251033</td>\n",
       "      <td>0.000000</td>\n",
       "      <td>137.693253</td>\n",
       "      <td>152.799022</td>\n",
       "      <td>140.925112</td>\n",
       "    </tr>\n",
       "    <tr>\n",
       "      <th>125</th>\n",
       "      <td>134.662336</td>\n",
       "      <td>133.599294</td>\n",
       "      <td>135.211397</td>\n",
       "      <td>132.672192</td>\n",
       "      <td>138.222741</td>\n",
       "      <td>113.369918</td>\n",
       "      <td>131.126756</td>\n",
       "      <td>124.382547</td>\n",
       "      <td>139.391227</td>\n",
       "      <td>153.402447</td>\n",
       "      <td>...</td>\n",
       "      <td>139.706245</td>\n",
       "      <td>122.332425</td>\n",
       "      <td>140.346944</td>\n",
       "      <td>141.719062</td>\n",
       "      <td>134.359698</td>\n",
       "      <td>140.202241</td>\n",
       "      <td>137.693253</td>\n",
       "      <td>0.000000</td>\n",
       "      <td>128.664875</td>\n",
       "      <td>131.238648</td>\n",
       "    </tr>\n",
       "    <tr>\n",
       "      <th>126</th>\n",
       "      <td>149.360023</td>\n",
       "      <td>147.986489</td>\n",
       "      <td>154.120769</td>\n",
       "      <td>134.487607</td>\n",
       "      <td>133.495130</td>\n",
       "      <td>137.550079</td>\n",
       "      <td>155.061611</td>\n",
       "      <td>157.214117</td>\n",
       "      <td>147.728446</td>\n",
       "      <td>148.055813</td>\n",
       "      <td>...</td>\n",
       "      <td>149.021750</td>\n",
       "      <td>148.744818</td>\n",
       "      <td>150.517995</td>\n",
       "      <td>151.107683</td>\n",
       "      <td>139.162857</td>\n",
       "      <td>162.666521</td>\n",
       "      <td>152.799022</td>\n",
       "      <td>128.664875</td>\n",
       "      <td>0.000000</td>\n",
       "      <td>159.924059</td>\n",
       "    </tr>\n",
       "    <tr>\n",
       "      <th>127</th>\n",
       "      <td>154.130854</td>\n",
       "      <td>139.986959</td>\n",
       "      <td>148.806973</td>\n",
       "      <td>151.726483</td>\n",
       "      <td>139.592519</td>\n",
       "      <td>134.892324</td>\n",
       "      <td>130.833412</td>\n",
       "      <td>155.940246</td>\n",
       "      <td>154.441104</td>\n",
       "      <td>146.017507</td>\n",
       "      <td>...</td>\n",
       "      <td>166.468513</td>\n",
       "      <td>138.517619</td>\n",
       "      <td>133.578053</td>\n",
       "      <td>143.947350</td>\n",
       "      <td>161.453076</td>\n",
       "      <td>134.906715</td>\n",
       "      <td>140.925112</td>\n",
       "      <td>131.238648</td>\n",
       "      <td>159.924059</td>\n",
       "      <td>0.000000</td>\n",
       "    </tr>\n",
       "  </tbody>\n",
       "</table>\n",
       "<p>128 rows × 128 columns</p>\n",
       "</div>"
      ],
      "text/plain": [
       "            0           1           2           3           4           5    \\\n",
       "0      0.000000  135.106444  161.484854  125.605858  149.065788  146.629999   \n",
       "1    135.106444    0.000000  143.232122  123.398851  137.880515  131.110695   \n",
       "2    161.484854  143.232122    0.000000  148.717058  136.983350  150.946363   \n",
       "3    125.605858  123.398851  148.717058    0.000000  135.680793  143.401676   \n",
       "4    149.065788  137.880515  136.983350  135.680793    0.000000  128.865891   \n",
       "..          ...         ...         ...         ...         ...         ...   \n",
       "123  147.383065  137.738777  155.556814  152.079165  144.013214  142.357667   \n",
       "124  152.358747  139.726775  153.884997  149.488277  147.165085  138.611241   \n",
       "125  134.662336  133.599294  135.211397  132.672192  138.222741  113.369918   \n",
       "126  149.360023  147.986489  154.120769  134.487607  133.495130  137.550079   \n",
       "127  154.130854  139.986959  148.806973  151.726483  139.592519  134.892324   \n",
       "\n",
       "            6           7           8           9    ...         118  \\\n",
       "0    141.928890  142.983462  145.663341  146.189560  ...  135.392123   \n",
       "1    126.894844  142.407402  128.577073  148.246391  ...  130.901037   \n",
       "2    155.505749  147.631069  150.593286  149.674219  ...  156.175036   \n",
       "3    141.193399  138.540077  142.044379  134.726127  ...  128.246960   \n",
       "4    141.544893  154.599511  151.592790  147.309578  ...  134.090901   \n",
       "..          ...         ...         ...         ...  ...         ...   \n",
       "123  138.762181  146.132045  140.624742  160.583107  ...  148.910315   \n",
       "124  135.131169  140.416976  153.383393  157.155150  ...  140.015490   \n",
       "125  131.126756  124.382547  139.391227  153.402447  ...  139.706245   \n",
       "126  155.061611  157.214117  147.728446  148.055813  ...  149.021750   \n",
       "127  130.833412  155.940246  154.441104  146.017507  ...  166.468513   \n",
       "\n",
       "            119         120         121         122         123         124  \\\n",
       "0    134.123586  141.775184  141.754135  165.910458  147.383065  152.358747   \n",
       "1    137.267744  144.856836  131.891111  150.177750  137.738777  139.726775   \n",
       "2    141.120485  146.922703  155.623280  167.092098  155.556814  153.884997   \n",
       "3    138.687527  143.864217  145.691703  137.133245  152.079165  149.488277   \n",
       "4    144.547789  131.768064  144.480490  155.278724  144.013214  147.165085   \n",
       "..          ...         ...         ...         ...         ...         ...   \n",
       "123  147.843565  143.774780  140.725207  166.633855    0.000000  143.251033   \n",
       "124  129.285695  141.686428  145.558407  149.872231  143.251033    0.000000   \n",
       "125  122.332425  140.346944  141.719062  134.359698  140.202241  137.693253   \n",
       "126  148.744818  150.517995  151.107683  139.162857  162.666521  152.799022   \n",
       "127  138.517619  133.578053  143.947350  161.453076  134.906715  140.925112   \n",
       "\n",
       "            125         126         127  \n",
       "0    134.662336  149.360023  154.130854  \n",
       "1    133.599294  147.986489  139.986959  \n",
       "2    135.211397  154.120769  148.806973  \n",
       "3    132.672192  134.487607  151.726483  \n",
       "4    138.222741  133.495130  139.592519  \n",
       "..          ...         ...         ...  \n",
       "123  140.202241  162.666521  134.906715  \n",
       "124  137.693253  152.799022  140.925112  \n",
       "125    0.000000  128.664875  131.238648  \n",
       "126  128.664875    0.000000  159.924059  \n",
       "127  131.238648  159.924059    0.000000  \n",
       "\n",
       "[128 rows x 128 columns]"
      ]
     },
     "execution_count": 10,
     "metadata": {},
     "output_type": "execute_result"
    }
   ],
   "source": [
    "import numpy as np\n",
    "from numba import cuda\n",
    "import math\n",
    "import pandas as pd\n",
    "\n",
    "@cuda.jit(\"void(float64[:, :], float64[:, :])\")\n",
    "def distance_matrix(mat, out):\n",
    "    #TODO: write a kernel to compute the distance matrix of the input \"mat\" and place the result in \"out\"\n",
    "    row, col = cuda.grid(2)\n",
    "    for i in range(mat.shape[0]):\n",
    "        for j in range(mat.shape[0]):\n",
    "            temp = 0\n",
    "            for k in range(mat.shape[1]):\n",
    "                temp += math.sqrt((mat[i,k]-mat[j, k])**2)\n",
    "            if row < out.shape[0] and col < out.shape[1]:\n",
    "                out[j,i] = temp\n",
    "                out[i,j] = temp\n",
    "\n",
    "def gpu_dist_matrix(mat):\n",
    "    #TODO: write a host function to calculate the grid size and use the calculated values to invoke the \"distance_Matrix\" kernel\n",
    "    mat_global_mem = cuda.to_device(mat)\n",
    "    out_global_mem = cuda.device_array((mat.shape[0], mat.shape[0]), np.float64)\n",
    "    \n",
    "    threadsperblock = (16, 16)\n",
    "    \n",
    "    blockspergrid_x = math.ceil(mat.shape[0] / threadsperblock[0])\n",
    "    blockspergrid_y = math.ceil(mat.shape[0] / threadsperblock[0])\n",
    "    blockspergrid = (blockspergrid_x, blockspergrid_y)\n",
    "    \n",
    "    distance_matrix[blockspergrid, threadsperblock](mat_global_mem, out_global_mem)\n",
    "    \n",
    "    # Copy the result back to the host\n",
    "    out = out_global_mem.copy_to_host()\n",
    "    \n",
    "    return out\n",
    "\n",
    "\n",
    "A = np.random.randn(128,128)\n",
    "D = gpu_dist_matrix(A)\n",
    "df = pd.DataFrame(D)\n",
    "df"
   ]
  },
  {
   "cell_type": "markdown",
   "metadata": {},
   "source": [
    "# Exercise 5: Convolution\n",
    "\n",
    "Write a convolution kernel and host function that convolves a grayscale image with a filter and compare the performance with the convolution method in scipy \"scipy.ndimage.filters.convolve\".\n",
    "\n",
    "<img src='files/conv.png' width=\"50%\" height=\"50%\"></img>"
   ]
  },
  {
   "cell_type": "code",
   "execution_count": 11,
   "metadata": {},
   "outputs": [],
   "source": [
    "@cuda.jit\n",
    "def conv_kernel(image, cfilter, out_image):\n",
    "    # TODO: write a kernel to convolve the image with the filter and produce a the filtered image out_image\n",
    "    for i in range(image.shape[0]-cfilter.shape[0]+1):\n",
    "        for j in range(image.shape[1]-cfilter.shape[1]+1):\n",
    "            ik = 0\n",
    "            for k in range(cfilter.shape[0]):\n",
    "                for l in range(cfilter.shape[1]):\n",
    "                    ik += image[i+k, j+l] * cfilter[k,l]\n",
    "            out_image[i,j] = ik\n",
    "    \n",
    "def gpu_conv(image, cfilter):\n",
    "    # write a host function to invoke the kernel conv_kernel\n",
    "    image_global_mem = cuda.to_device(image)\n",
    "    cfilter_global_mem = cuda.to_device(cfilter)\n",
    "    out_img_dimX, out_img_dimY = (image.shape[0]-cfilter.shape[0]+1, image.shape[0]-cfilter.shape[0]+1)\n",
    "    out_image_global_mem = cuda.device_array((out_img_dimX, out_img_dimY), np.float64)\n",
    "    \n",
    "    threadsperblock = (16,16)\n",
    "    blocksperthreads_x = math.ceil(image.shape[0]/threadsperblock[0])\n",
    "    blocksperthreads_y = math.ceil(image.shape[1]/threadsperblock[0])\n",
    "    blocksperthreads = (blocksperthreads_x, blocksperthreads_y)\n",
    "    \n",
    "    conv_kernel[blocksperthreads, threadsperblock](image_global_mem, cfilter_global_mem, out_image_global_mem)\n",
    "    \n",
    "    out_image = out_image_global_mem.copy_to_host()\n",
    "    \n",
    "    \n",
    "    return out_image"
   ]
  },
  {
   "cell_type": "markdown",
   "metadata": {},
   "source": [
    "## Testing the convolution kernel"
   ]
  },
  {
   "cell_type": "code",
   "execution_count": 12,
   "metadata": {},
   "outputs": [
    {
     "name": "stdout",
     "output_type": "stream",
     "text": [
      "Image Shape: (256, 256)\n",
      "Filter:\n",
      " [[-1 -1 -1]\n",
      " [-1  8 -1]\n",
      " [-1 -1 -1]]\n"
     ]
    },
    {
     "data": {
      "image/png": "[encoded data removed]",
      "text/plain": [
       "<Figure size 432x288 with 2 Axes>"
      ]
     },
     "metadata": {
      "needs_background": "light"
     },
     "output_type": "display_data"
    }
   ],
   "source": [
    "import matplotlib.pyplot as plt\n",
    "from PIL import Image\n",
    "import numpy as np\n",
    "\n",
    "plt.figure(1)\n",
    "\n",
    "#Loading the image and converting it to numpy array\n",
    "im = Image.open(\"./files/QCaSg.png\")\n",
    "im_arr = np.array(im.getdata()).reshape(im.size[0], im.size[1])\n",
    "plt.subplot(211)\n",
    "plt.imshow(im_arr, cmap='gray')\n",
    "print(\"Image Shape:\",im_arr.shape)\n",
    "\n",
    "# Creating the filter to use\n",
    "filt = np.array([[-1,-1,-1], [-1,8,-1], [-1,-1,-1]])\n",
    "print(\"Filter:\\n\",filt)\n",
    "\n",
    "conv_img = gpu_conv(im_arr, filt)\n",
    "plt.subplot(212)\n",
    "plt.imshow(conv_img, cmap='gray')\n",
    "plt.show()"
   ]
  },
  {
   "cell_type": "code",
   "execution_count": 13,
   "metadata": {},
   "outputs": [
    {
     "name": "stdout",
     "output_type": "stream",
     "text": [
      "(256, 256)\n"
     ]
    },
    {
     "data": {
      "text/plain": [
       "<matplotlib.image.AxesImage at 0x7f559f128850>"
      ]
     },
     "execution_count": 13,
     "metadata": {},
     "output_type": "execute_result"
    },
    {
     "data": {
      "image/png": "[encoded data removed]",
      "text/plain": [
       "<Figure size 432x288 with 1 Axes>"
      ]
     },
     "metadata": {
      "needs_background": "light"
     },
     "output_type": "display_data"
    }
   ],
   "source": [
    "from scipy.ndimage.filters import convolve\n",
    "\n",
    "# Using scipy convolution\n",
    "filtered_image = convolve(im_arr, filt)\n",
    "print(filtered_image.shape)\n",
    "plt.imshow(filtered_image, cmap='gray')"
   ]
  },
  {
   "cell_type": "markdown",
   "metadata": {},
   "source": [
    "# Homework: Development of a Simple Neural Network\n",
    "\n",
    "The purpose of using GPUs for training in deep learning is its ability to parallelize matrix computation on which deep learning models heavily rely. \n",
    "\n",
    "For the purpose of this Lab, we will use the file NN.py, which contains an MLP class used to create a multi-layer neural network. The class MLP accepts as input the network structure (as a dictionary object), and a matrix multiplication function to use in the computations. By default, the matrix multiplication function it uses is \"numpy.dot\". We can try the function implemented in Example 2 and compare it with NumPy.\n",
    "\n",
    "Read the file NN.py, and implement the missing parts (places marked with TODO keywords). The file is a full implementation of the neural network that consists of feedforward and backpropagation for training the neural networks. The backward calculations involve the computation of the gradients of the loss function with respect to the weights of the network dL/dw. This part is implemented, but you are encouraged to read it carefully to understand how it is calculated.\n",
    "\n",
    "Most of the parts that you are required to calculate are in the feedforward step. Read the comments carefully to be able to know the kind of output that is expected from each method.\n",
    "\n",
    "After completing the code in NN.py file, use the code below to verify that it is working. Use the matrix multiplication function that you have developed earlier and compare it with the use of Numpy multiplication. Explain what you notice.\n",
    "\n",
    "Write a short report in the section below, explaining your observations. Send the report to Abdallah Alabdallah <abdallah.alabdallah@hh.se> by Friday, 1 May 2020 at 23:59.\n"
   ]
  },
  {
   "cell_type": "code",
   "execution_count": 14,
   "metadata": {},
   "outputs": [],
   "source": [
    "from NN import MLP\n",
    "import numpy as np\n",
    "from numba import cuda\n",
    "import math\n",
    "\n",
    "NN_ARCHITECTURE = [\n",
    "    {\"input_dim\": 2, \"output_dim\": 25, \"activation\": \"relu\"},\n",
    "    {\"input_dim\": 25, \"output_dim\": 50, \"activation\": \"relu\"},\n",
    "    {\"input_dim\": 50, \"output_dim\": 50, \"activation\": \"relu\"},\n",
    "    {\"input_dim\": 50, \"output_dim\": 25, \"activation\": \"relu\"},\n",
    "    {\"input_dim\": 25, \"output_dim\": 1, \"activation\": \"sigmoid\"},\n",
    "]\n",
    "\n",
    "# matmul holds the function to be used for matrix multiplication, it can be np.dot or gpu_dot\n",
    "model = MLP(NN_ARCHITECTURE, matmul=gpu_dot) "
   ]
  },
  {
   "cell_type": "code",
   "execution_count": 15,
   "metadata": {},
   "outputs": [
    {
     "name": "stdout",
     "output_type": "stream",
     "text": [
      "Iteration: 00000 - cost: 0.69398 - accuracy: 0.50444\n",
      "Iteration: 00100 - cost: 0.69327 - accuracy: 0.50444\n",
      "Iteration: 00200 - cost: 0.69270 - accuracy: 0.50444\n",
      "Iteration: 00300 - cost: 0.69220 - accuracy: 0.50444\n",
      "Iteration: 00400 - cost: 0.69174 - accuracy: 0.50444\n",
      "Iteration: 00500 - cost: 0.69128 - accuracy: 0.50444\n",
      "Iteration: 00600 - cost: 0.69075 - accuracy: 0.50444\n",
      "Iteration: 00700 - cost: 0.69013 - accuracy: 0.50444\n",
      "Iteration: 00800 - cost: 0.68938 - accuracy: 0.50444\n",
      "Iteration: 00900 - cost: 0.68846 - accuracy: 0.50444\n",
      "Iteration: 01000 - cost: 0.68732 - accuracy: 0.64333\n",
      "Iteration: 01100 - cost: 0.68589 - accuracy: 0.78000\n",
      "Iteration: 01200 - cost: 0.68403 - accuracy: 0.80222\n",
      "Iteration: 01300 - cost: 0.68157 - accuracy: 0.80444\n",
      "Iteration: 01400 - cost: 0.67817 - accuracy: 0.80889\n",
      "Iteration: 01500 - cost: 0.67333 - accuracy: 0.81222\n",
      "Iteration: 01600 - cost: 0.66624 - accuracy: 0.80222\n",
      "Iteration: 01700 - cost: 0.65645 - accuracy: 0.80556\n",
      "Iteration: 01800 - cost: 0.64143 - accuracy: 0.80667\n",
      "Iteration: 01900 - cost: 0.61984 - accuracy: 0.81667\n",
      "Iteration: 02000 - cost: 0.58974 - accuracy: 0.82111\n",
      "Iteration: 02100 - cost: 0.54599 - accuracy: 0.82667\n",
      "Iteration: 02200 - cost: 0.48927 - accuracy: 0.83556\n",
      "Iteration: 02300 - cost: 0.42763 - accuracy: 0.84333\n",
      "Iteration: 02400 - cost: 0.37441 - accuracy: 0.85222\n",
      "Iteration: 02500 - cost: 0.33648 - accuracy: 0.86222\n",
      "Iteration: 02600 - cost: 0.31182 - accuracy: 0.87111\n",
      "Iteration: 02700 - cost: 0.29652 - accuracy: 0.87889\n",
      "Iteration: 02800 - cost: 0.28702 - accuracy: 0.87889\n",
      "Iteration: 02900 - cost: 0.28084 - accuracy: 0.88000\n",
      "Iteration: 03000 - cost: 0.27629 - accuracy: 0.87889\n",
      "Iteration: 03100 - cost: 0.27266 - accuracy: 0.88111\n",
      "Iteration: 03200 - cost: 0.26955 - accuracy: 0.88222\n",
      "Iteration: 03300 - cost: 0.26670 - accuracy: 0.88333\n",
      "Iteration: 03400 - cost: 0.26390 - accuracy: 0.88333\n",
      "Iteration: 03500 - cost: 0.26101 - accuracy: 0.88444\n",
      "Iteration: 03600 - cost: 0.25801 - accuracy: 0.88333\n",
      "Iteration: 03700 - cost: 0.25479 - accuracy: 0.88222\n",
      "Iteration: 03800 - cost: 0.25130 - accuracy: 0.88444\n",
      "Iteration: 03900 - cost: 0.24750 - accuracy: 0.88667\n",
      "Iteration: 04000 - cost: 0.24330 - accuracy: 0.88889\n",
      "Iteration: 04100 - cost: 0.23870 - accuracy: 0.89111\n",
      "Iteration: 04200 - cost: 0.23365 - accuracy: 0.89444\n",
      "Iteration: 04300 - cost: 0.22810 - accuracy: 0.89778\n",
      "Iteration: 04400 - cost: 0.22198 - accuracy: 0.90444\n",
      "Iteration: 04500 - cost: 0.21530 - accuracy: 0.90889\n",
      "Iteration: 04600 - cost: 0.20802 - accuracy: 0.91222\n",
      "Iteration: 04700 - cost: 0.20008 - accuracy: 0.91778\n",
      "Iteration: 04800 - cost: 0.19154 - accuracy: 0.92111\n",
      "Iteration: 04900 - cost: 0.18242 - accuracy: 0.92444\n",
      "Iteration: 05000 - cost: 0.17292 - accuracy: 0.93333\n",
      "Iteration: 05100 - cost: 0.16331 - accuracy: 0.93778\n",
      "Iteration: 05200 - cost: 0.15382 - accuracy: 0.94111\n",
      "Iteration: 05300 - cost: 0.14474 - accuracy: 0.94333\n",
      "Iteration: 05400 - cost: 0.13626 - accuracy: 0.94556\n",
      "Iteration: 05500 - cost: 0.12860 - accuracy: 0.94778\n",
      "Iteration: 05600 - cost: 0.12183 - accuracy: 0.95222\n",
      "Iteration: 05700 - cost: 0.11603 - accuracy: 0.95556\n",
      "Iteration: 05800 - cost: 0.11111 - accuracy: 0.96000\n",
      "Iteration: 05900 - cost: 0.10695 - accuracy: 0.96333\n",
      "Iteration: 06000 - cost: 0.10346 - accuracy: 0.96333\n",
      "Iteration: 06100 - cost: 0.10053 - accuracy: 0.96333\n",
      "Iteration: 06200 - cost: 0.09807 - accuracy: 0.96333\n",
      "Iteration: 06300 - cost: 0.09599 - accuracy: 0.96333\n",
      "Iteration: 06400 - cost: 0.09426 - accuracy: 0.96333\n",
      "Iteration: 06500 - cost: 0.09279 - accuracy: 0.96222\n",
      "Iteration: 06600 - cost: 0.09141 - accuracy: 0.96556\n",
      "Iteration: 06700 - cost: 0.09031 - accuracy: 0.96556\n",
      "Iteration: 06800 - cost: 0.08934 - accuracy: 0.96556\n",
      "Iteration: 06900 - cost: 0.08846 - accuracy: 0.96556\n",
      "Iteration: 07000 - cost: 0.08769 - accuracy: 0.96556\n",
      "Iteration: 07100 - cost: 0.08686 - accuracy: 0.96556\n",
      "Iteration: 07200 - cost: 0.08609 - accuracy: 0.96556\n",
      "Iteration: 07300 - cost: 0.08527 - accuracy: 0.96333\n",
      "Iteration: 07400 - cost: 0.08441 - accuracy: 0.96667\n",
      "Iteration: 07500 - cost: 0.08366 - accuracy: 0.96778\n",
      "Iteration: 07600 - cost: 0.08294 - accuracy: 0.96778\n",
      "Iteration: 07700 - cost: 0.08220 - accuracy: 0.96778\n",
      "Iteration: 07800 - cost: 0.08150 - accuracy: 0.96889\n",
      "Iteration: 07900 - cost: 0.08099 - accuracy: 0.96889\n",
      "Iteration: 08000 - cost: 0.08054 - accuracy: 0.97000\n",
      "Iteration: 08100 - cost: 0.08014 - accuracy: 0.97000\n",
      "Iteration: 08200 - cost: 0.07979 - accuracy: 0.97000\n",
      "Iteration: 08300 - cost: 0.07944 - accuracy: 0.97111\n",
      "Iteration: 08400 - cost: 0.07910 - accuracy: 0.97111\n",
      "Iteration: 08500 - cost: 0.07877 - accuracy: 0.97111\n",
      "Iteration: 08600 - cost: 0.07846 - accuracy: 0.97111\n",
      "Iteration: 08700 - cost: 0.07820 - accuracy: 0.97111\n",
      "Iteration: 08800 - cost: 0.07796 - accuracy: 0.97111\n",
      "Iteration: 08900 - cost: 0.07772 - accuracy: 0.97111\n",
      "Iteration: 09000 - cost: 0.07749 - accuracy: 0.97111\n",
      "Iteration: 09100 - cost: 0.07728 - accuracy: 0.97111\n",
      "Iteration: 09200 - cost: 0.07709 - accuracy: 0.97111\n",
      "Iteration: 09300 - cost: 0.07690 - accuracy: 0.97111\n",
      "Iteration: 09400 - cost: 0.07673 - accuracy: 0.97111\n",
      "Iteration: 09500 - cost: 0.07658 - accuracy: 0.97111\n",
      "Iteration: 09600 - cost: 0.07644 - accuracy: 0.97111\n",
      "Iteration: 09700 - cost: 0.07631 - accuracy: 0.97111\n",
      "Iteration: 09800 - cost: 0.07619 - accuracy: 0.97111\n",
      "Iteration: 09900 - cost: 0.07607 - accuracy: 0.97111\n",
      "Test set accuracy: 0.97\n"
     ]
    }
   ],
   "source": [
    "import os\n",
    "from sklearn.datasets import make_moons\n",
    "from sklearn.model_selection import train_test_split\n",
    "\n",
    "# number of samples in the data set\n",
    "N_SAMPLES = 1000\n",
    "# ratio between training and test sets\n",
    "TEST_SIZE = 0.1\n",
    "\n",
    "\n",
    "# Create the Data\n",
    "X, y = make_moons(n_samples = N_SAMPLES, noise=0.2, random_state=100)\n",
    "X_train, X_test, y_train, y_test = train_test_split(X, y, test_size=TEST_SIZE, random_state=42)\n",
    "\n",
    "# Training\n",
    "model.train(np.transpose(X_train), np.transpose(y_train.reshape((y_train.shape[0], 1))), 10000, 0.01, verbose=True)\n",
    "# Prediction\n",
    "Y_test_hat = model.predict(np.transpose(X_test))\n",
    "\n",
    "# Accuracy achieved on the test set\n",
    "acc_test = model.get_accuracy_value(Y_test_hat, np.transpose(y_test.reshape((y_test.shape[0], 1))))\n",
    "print(\"Test set accuracy: {:.2f}\".format(acc_test))"
   ]
  },
  {
   "cell_type": "code",
   "execution_count": 16,
   "metadata": {},
   "outputs": [
    {
     "name": "stdout",
     "output_type": "stream",
     "text": [
      "4.36 s ± 4.22 ms per loop (mean ± std. dev. of 7 runs, 1 loop each)\n"
     ]
    }
   ],
   "source": [
    "%timeit gpu_dist_matrix(A)"
   ]
  },
  {
   "cell_type": "code",
   "execution_count": 17,
   "metadata": {},
   "outputs": [
    {
     "name": "stdout",
     "output_type": "stream",
     "text": [
      "858 µs ± 2.39 µs per loop (mean ± std. dev. of 7 runs, 1000 loops each)\n"
     ]
    }
   ],
   "source": [
    "%timeit gpu_dot(A,A)"
   ]
  },
  {
   "cell_type": "code",
   "execution_count": 18,
   "metadata": {},
   "outputs": [
    {
     "name": "stdout",
     "output_type": "stream",
     "text": [
      "1.1 ms ± 2.94 µs per loop (mean ± std. dev. of 7 runs, 1000 loops each)\n"
     ]
    }
   ],
   "source": [
    "%timeit np.dot(A,A)"
   ]
  },
  {
   "cell_type": "markdown",
   "metadata": {},
   "source": [
    "# Report:\n",
    "Send the report to Abdallah Alabdallah <abdallah.alabdallah@hh.se> by Friday, 1 May 2020 at 23:59.\n",
    "\n",
    "### Name:\n",
    "\n",
    "### Exercise 1:\n",
    "\n",
    "When comparing CUDA to numpy we can see that CUDA isn't always faster, in my case running on a GTX980 and an i7 6700k, I had to increase the size of the array to over $10^4$ before I started to notice an improvement using CUDA.\n",
    "\n",
    "### Exercise 2:\n",
    "\n",
    "On this task I noticed that you had to write your kernel wihtout depening packages such as numpy, you have to write it like you write a C program.\n",
    "\n",
    "### Exercise 3:\n",
    "\n",
    "At this step I realized you can use numpy in the host function and how you interact with the GPU via memory allocation etc. These calculations ran much faster on the GPU, $\\approx 8$x faster.\n",
    "\n",
    "### Exercise 4:\n",
    "\n",
    "At this step I had to do some research about `Threads per block` since I had some CUDA errors regarding resources. I had to scale it down to (16,16). According to [this](https://stackoverflow.com/questions/4391162/cuda-determining-threads-per-block-blocks-per-grid) StackOverflow post I read that the TPB has to be a multiple of 32.\n",
    "\n",
    "### Exercise 5:\n",
    "\n",
    "At this step I were comfortable developing the kernel code and I didn't really had any issues.\n",
    "\n",
    "### Homework:\n",
    "\n",
    "This exercise/task were really fun! Earlier this year I read the Learning Systems course here at HH were we had do develop a NN but with numpy, it was fun to now implement it with CUDA and to see the performance gain. "
   ]
  },
  {
   "cell_type": "code",
   "execution_count": null,
   "metadata": {},
   "outputs": [],
   "source": []
  }
 ],
 "metadata": {
  "kernelspec": {
   "display_name": "Python 3",
   "language": "python",
   "name": "python3"
  },
  "language_info": {
   "codemirror_mode": {
    "name": "ipython",
    "version": 3
   },
   "file_extension": ".py",
   "mimetype": "text/x-python",
   "name": "python",
   "nbconvert_exporter": "python",
   "pygments_lexer": "ipython3",
   "version": "3.8.2"
  }
 },
 "nbformat": 4,
 "nbformat_minor": 4
}
